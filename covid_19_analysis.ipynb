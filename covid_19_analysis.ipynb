{
  "nbformat": 4,
  "nbformat_minor": 0,
  "metadata": {
    "colab": {
      "name": "covid-19 analysis.ipynb",
      "provenance": [],
      "collapsed_sections": [],
      "authorship_tag": "ABX9TyObZjFYj1SEkPBZQ68CQb1n",
      "include_colab_link": true
    },
    "kernelspec": {
      "name": "python3",
      "display_name": "Python 3"
    },
    "language_info": {
      "name": "python"
    }
  },
  "cells": [
    {
      "cell_type": "markdown",
      "metadata": {
        "id": "view-in-github",
        "colab_type": "text"
      },
      "source": [
        "<a href=\"https://colab.research.google.com/github/Alvistor/COVID-19-vaccination-analysis/blob/main/covid_19_analysis.ipynb\" target=\"_parent\"><img src=\"https://colab.research.google.com/assets/colab-badge.svg\" alt=\"Open In Colab\"/></a>"
      ]
    },
    {
      "cell_type": "code",
      "metadata": {
        "id": "ygvM6WXftr46"
      },
      "source": [
        "import numpy as np\n",
        "import pandas as pd\n",
        "import seaborn as sb"
      ],
      "execution_count": 4,
      "outputs": []
    },
    {
      "cell_type": "code",
      "metadata": {
        "id": "oYGLdd3Str7P"
      },
      "source": [
        "url='https://raw.githubusercontent.com/owid/covid-19-data/master/public/data/vaccinations/vaccinations.csv'\n",
        "data=pd.read_csv(url,index_col=\"location\")"
      ],
      "execution_count": 5,
      "outputs": []
    },
    {
      "cell_type": "code",
      "metadata": {
        "id": "fYzVU7Actr-s"
      },
      "source": [
        "data=data.loc[\"India\"]"
      ],
      "execution_count": 13,
      "outputs": []
    },
    {
      "cell_type": "code",
      "metadata": {
        "colab": {
          "base_uri": "https://localhost:8080/",
          "height": 635
        },
        "id": "rMbM6Fn4tsBh",
        "outputId": "482b7ee5-27a6-4baf-c11f-68ee0d8e90b8"
      },
      "source": [
        "data"
      ],
      "execution_count": 14,
      "outputs": [
        {
          "output_type": "execute_result",
          "data": {
            "text/html": [
              "<div>\n",
              "<style scoped>\n",
              "    .dataframe tbody tr th:only-of-type {\n",
              "        vertical-align: middle;\n",
              "    }\n",
              "\n",
              "    .dataframe tbody tr th {\n",
              "        vertical-align: top;\n",
              "    }\n",
              "\n",
              "    .dataframe thead th {\n",
              "        text-align: right;\n",
              "    }\n",
              "</style>\n",
              "<table border=\"1\" class=\"dataframe\">\n",
              "  <thead>\n",
              "    <tr style=\"text-align: right;\">\n",
              "      <th></th>\n",
              "      <th>iso_code</th>\n",
              "      <th>date</th>\n",
              "      <th>total_vaccinations</th>\n",
              "      <th>people_vaccinated</th>\n",
              "      <th>people_fully_vaccinated</th>\n",
              "      <th>daily_vaccinations_raw</th>\n",
              "      <th>daily_vaccinations</th>\n",
              "      <th>total_vaccinations_per_hundred</th>\n",
              "      <th>people_vaccinated_per_hundred</th>\n",
              "      <th>people_fully_vaccinated_per_hundred</th>\n",
              "      <th>daily_vaccinations_per_million</th>\n",
              "    </tr>\n",
              "    <tr>\n",
              "      <th>location</th>\n",
              "      <th></th>\n",
              "      <th></th>\n",
              "      <th></th>\n",
              "      <th></th>\n",
              "      <th></th>\n",
              "      <th></th>\n",
              "      <th></th>\n",
              "      <th></th>\n",
              "      <th></th>\n",
              "      <th></th>\n",
              "      <th></th>\n",
              "    </tr>\n",
              "  </thead>\n",
              "  <tbody>\n",
              "    <tr>\n",
              "      <th>India</th>\n",
              "      <td>IND</td>\n",
              "      <td>2021-01-15</td>\n",
              "      <td>0.0</td>\n",
              "      <td>0.0</td>\n",
              "      <td>0.0</td>\n",
              "      <td>0.0</td>\n",
              "      <td>0.0</td>\n",
              "      <td>0.00</td>\n",
              "      <td>0.00</td>\n",
              "      <td>0.00</td>\n",
              "      <td>0.0</td>\n",
              "    </tr>\n",
              "    <tr>\n",
              "      <th>India</th>\n",
              "      <td>IND</td>\n",
              "      <td>2021-01-16</td>\n",
              "      <td>191181.0</td>\n",
              "      <td>191181.0</td>\n",
              "      <td>0.0</td>\n",
              "      <td>191181.0</td>\n",
              "      <td>191181.0</td>\n",
              "      <td>0.01</td>\n",
              "      <td>0.01</td>\n",
              "      <td>0.00</td>\n",
              "      <td>139.0</td>\n",
              "    </tr>\n",
              "    <tr>\n",
              "      <th>India</th>\n",
              "      <td>IND</td>\n",
              "      <td>2021-01-17</td>\n",
              "      <td>224301.0</td>\n",
              "      <td>224301.0</td>\n",
              "      <td>0.0</td>\n",
              "      <td>33120.0</td>\n",
              "      <td>112150.0</td>\n",
              "      <td>0.02</td>\n",
              "      <td>0.02</td>\n",
              "      <td>0.00</td>\n",
              "      <td>81.0</td>\n",
              "    </tr>\n",
              "    <tr>\n",
              "      <th>India</th>\n",
              "      <td>IND</td>\n",
              "      <td>2021-01-18</td>\n",
              "      <td>454049.0</td>\n",
              "      <td>454049.0</td>\n",
              "      <td>0.0</td>\n",
              "      <td>229748.0</td>\n",
              "      <td>151350.0</td>\n",
              "      <td>0.03</td>\n",
              "      <td>0.03</td>\n",
              "      <td>0.00</td>\n",
              "      <td>110.0</td>\n",
              "    </tr>\n",
              "    <tr>\n",
              "      <th>India</th>\n",
              "      <td>IND</td>\n",
              "      <td>2021-01-19</td>\n",
              "      <td>674835.0</td>\n",
              "      <td>674835.0</td>\n",
              "      <td>0.0</td>\n",
              "      <td>220786.0</td>\n",
              "      <td>168709.0</td>\n",
              "      <td>0.05</td>\n",
              "      <td>0.05</td>\n",
              "      <td>0.00</td>\n",
              "      <td>122.0</td>\n",
              "    </tr>\n",
              "    <tr>\n",
              "      <th>...</th>\n",
              "      <td>...</td>\n",
              "      <td>...</td>\n",
              "      <td>...</td>\n",
              "      <td>...</td>\n",
              "      <td>...</td>\n",
              "      <td>...</td>\n",
              "      <td>...</td>\n",
              "      <td>...</td>\n",
              "      <td>...</td>\n",
              "      <td>...</td>\n",
              "      <td>...</td>\n",
              "    </tr>\n",
              "    <tr>\n",
              "      <th>India</th>\n",
              "      <td>IND</td>\n",
              "      <td>2021-06-07</td>\n",
              "      <td>230490652.0</td>\n",
              "      <td>185501579.0</td>\n",
              "      <td>44989073.0</td>\n",
              "      <td>2449607.0</td>\n",
              "      <td>2862965.0</td>\n",
              "      <td>16.70</td>\n",
              "      <td>13.44</td>\n",
              "      <td>3.26</td>\n",
              "      <td>2075.0</td>\n",
              "    </tr>\n",
              "    <tr>\n",
              "      <th>India</th>\n",
              "      <td>IND</td>\n",
              "      <td>2021-06-08</td>\n",
              "      <td>233680929.0</td>\n",
              "      <td>188363894.0</td>\n",
              "      <td>45317035.0</td>\n",
              "      <td>3190277.0</td>\n",
              "      <td>2935027.0</td>\n",
              "      <td>16.93</td>\n",
              "      <td>13.65</td>\n",
              "      <td>3.28</td>\n",
              "      <td>2127.0</td>\n",
              "    </tr>\n",
              "    <tr>\n",
              "      <th>India</th>\n",
              "      <td>IND</td>\n",
              "      <td>2021-06-09</td>\n",
              "      <td>236856505.0</td>\n",
              "      <td>191222380.0</td>\n",
              "      <td>45634125.0</td>\n",
              "      <td>3175576.0</td>\n",
              "      <td>3025477.0</td>\n",
              "      <td>17.16</td>\n",
              "      <td>13.86</td>\n",
              "      <td>3.31</td>\n",
              "      <td>2192.0</td>\n",
              "    </tr>\n",
              "    <tr>\n",
              "      <th>India</th>\n",
              "      <td>IND</td>\n",
              "      <td>2021-06-10</td>\n",
              "      <td>240281903.0</td>\n",
              "      <td>194325996.0</td>\n",
              "      <td>45955907.0</td>\n",
              "      <td>3425398.0</td>\n",
              "      <td>3133931.0</td>\n",
              "      <td>17.41</td>\n",
              "      <td>14.08</td>\n",
              "      <td>3.33</td>\n",
              "      <td>2271.0</td>\n",
              "    </tr>\n",
              "    <tr>\n",
              "      <th>India</th>\n",
              "      <td>IND</td>\n",
              "      <td>2021-06-11</td>\n",
              "      <td>243703242.0</td>\n",
              "      <td>197415653.0</td>\n",
              "      <td>46287589.0</td>\n",
              "      <td>3421339.0</td>\n",
              "      <td>2870782.0</td>\n",
              "      <td>17.66</td>\n",
              "      <td>14.31</td>\n",
              "      <td>3.35</td>\n",
              "      <td>2080.0</td>\n",
              "    </tr>\n",
              "  </tbody>\n",
              "</table>\n",
              "<p>148 rows × 11 columns</p>\n",
              "</div>"
            ],
            "text/plain": [
              "         iso_code  ... daily_vaccinations_per_million\n",
              "location           ...                               \n",
              "India         IND  ...                            0.0\n",
              "India         IND  ...                          139.0\n",
              "India         IND  ...                           81.0\n",
              "India         IND  ...                          110.0\n",
              "India         IND  ...                          122.0\n",
              "...           ...  ...                            ...\n",
              "India         IND  ...                         2075.0\n",
              "India         IND  ...                         2127.0\n",
              "India         IND  ...                         2192.0\n",
              "India         IND  ...                         2271.0\n",
              "India         IND  ...                         2080.0\n",
              "\n",
              "[148 rows x 11 columns]"
            ]
          },
          "metadata": {
            "tags": []
          },
          "execution_count": 14
        }
      ]
    },
    {
      "cell_type": "code",
      "metadata": {
        "id": "BTGSrPJNuWHy"
      },
      "source": [
        "'''\n",
        "data cleaning\n",
        "'''\n",
        "data.fillna(0,inplace=True)"
      ],
      "execution_count": 15,
      "outputs": []
    },
    {
      "cell_type": "code",
      "metadata": {
        "colab": {
          "base_uri": "https://localhost:8080/",
          "height": 346
        },
        "id": "DRsLmcUyuWJk",
        "outputId": "89a04e4f-755a-4e0a-fbfb-6b148558afc2"
      },
      "source": [
        "data.corr()"
      ],
      "execution_count": 16,
      "outputs": [
        {
          "output_type": "execute_result",
          "data": {
            "text/html": [
              "<div>\n",
              "<style scoped>\n",
              "    .dataframe tbody tr th:only-of-type {\n",
              "        vertical-align: middle;\n",
              "    }\n",
              "\n",
              "    .dataframe tbody tr th {\n",
              "        vertical-align: top;\n",
              "    }\n",
              "\n",
              "    .dataframe thead th {\n",
              "        text-align: right;\n",
              "    }\n",
              "</style>\n",
              "<table border=\"1\" class=\"dataframe\">\n",
              "  <thead>\n",
              "    <tr style=\"text-align: right;\">\n",
              "      <th></th>\n",
              "      <th>total_vaccinations</th>\n",
              "      <th>people_vaccinated</th>\n",
              "      <th>people_fully_vaccinated</th>\n",
              "      <th>daily_vaccinations_raw</th>\n",
              "      <th>daily_vaccinations</th>\n",
              "      <th>total_vaccinations_per_hundred</th>\n",
              "      <th>people_vaccinated_per_hundred</th>\n",
              "      <th>people_fully_vaccinated_per_hundred</th>\n",
              "      <th>daily_vaccinations_per_million</th>\n",
              "    </tr>\n",
              "  </thead>\n",
              "  <tbody>\n",
              "    <tr>\n",
              "      <th>total_vaccinations</th>\n",
              "      <td>1.000000</td>\n",
              "      <td>0.998883</td>\n",
              "      <td>0.983239</td>\n",
              "      <td>0.590951</td>\n",
              "      <td>0.684832</td>\n",
              "      <td>1.000000</td>\n",
              "      <td>0.998879</td>\n",
              "      <td>0.983296</td>\n",
              "      <td>0.684864</td>\n",
              "    </tr>\n",
              "    <tr>\n",
              "      <th>people_vaccinated</th>\n",
              "      <td>0.998883</td>\n",
              "      <td>1.000000</td>\n",
              "      <td>0.973525</td>\n",
              "      <td>0.609953</td>\n",
              "      <td>0.708847</td>\n",
              "      <td>0.998881</td>\n",
              "      <td>1.000000</td>\n",
              "      <td>0.973596</td>\n",
              "      <td>0.708877</td>\n",
              "    </tr>\n",
              "    <tr>\n",
              "      <th>people_fully_vaccinated</th>\n",
              "      <td>0.983239</td>\n",
              "      <td>0.973525</td>\n",
              "      <td>1.000000</td>\n",
              "      <td>0.505194</td>\n",
              "      <td>0.577757</td>\n",
              "      <td>0.983246</td>\n",
              "      <td>0.973510</td>\n",
              "      <td>0.999998</td>\n",
              "      <td>0.577798</td>\n",
              "    </tr>\n",
              "    <tr>\n",
              "      <th>daily_vaccinations_raw</th>\n",
              "      <td>0.590951</td>\n",
              "      <td>0.609953</td>\n",
              "      <td>0.505194</td>\n",
              "      <td>1.000000</td>\n",
              "      <td>0.795031</td>\n",
              "      <td>0.590894</td>\n",
              "      <td>0.610022</td>\n",
              "      <td>0.505397</td>\n",
              "      <td>0.795002</td>\n",
              "    </tr>\n",
              "    <tr>\n",
              "      <th>daily_vaccinations</th>\n",
              "      <td>0.684832</td>\n",
              "      <td>0.708847</td>\n",
              "      <td>0.577757</td>\n",
              "      <td>0.795031</td>\n",
              "      <td>1.000000</td>\n",
              "      <td>0.684819</td>\n",
              "      <td>0.708876</td>\n",
              "      <td>0.578020</td>\n",
              "      <td>1.000000</td>\n",
              "    </tr>\n",
              "    <tr>\n",
              "      <th>total_vaccinations_per_hundred</th>\n",
              "      <td>1.000000</td>\n",
              "      <td>0.998881</td>\n",
              "      <td>0.983246</td>\n",
              "      <td>0.590894</td>\n",
              "      <td>0.684819</td>\n",
              "      <td>1.000000</td>\n",
              "      <td>0.998878</td>\n",
              "      <td>0.983303</td>\n",
              "      <td>0.684852</td>\n",
              "    </tr>\n",
              "    <tr>\n",
              "      <th>people_vaccinated_per_hundred</th>\n",
              "      <td>0.998879</td>\n",
              "      <td>1.000000</td>\n",
              "      <td>0.973510</td>\n",
              "      <td>0.610022</td>\n",
              "      <td>0.708876</td>\n",
              "      <td>0.998878</td>\n",
              "      <td>1.000000</td>\n",
              "      <td>0.973581</td>\n",
              "      <td>0.708906</td>\n",
              "    </tr>\n",
              "    <tr>\n",
              "      <th>people_fully_vaccinated_per_hundred</th>\n",
              "      <td>0.983296</td>\n",
              "      <td>0.973596</td>\n",
              "      <td>0.999998</td>\n",
              "      <td>0.505397</td>\n",
              "      <td>0.578020</td>\n",
              "      <td>0.983303</td>\n",
              "      <td>0.973581</td>\n",
              "      <td>1.000000</td>\n",
              "      <td>0.578061</td>\n",
              "    </tr>\n",
              "    <tr>\n",
              "      <th>daily_vaccinations_per_million</th>\n",
              "      <td>0.684864</td>\n",
              "      <td>0.708877</td>\n",
              "      <td>0.577798</td>\n",
              "      <td>0.795002</td>\n",
              "      <td>1.000000</td>\n",
              "      <td>0.684852</td>\n",
              "      <td>0.708906</td>\n",
              "      <td>0.578061</td>\n",
              "      <td>1.000000</td>\n",
              "    </tr>\n",
              "  </tbody>\n",
              "</table>\n",
              "</div>"
            ],
            "text/plain": [
              "                                     total_vaccinations  ...  daily_vaccinations_per_million\n",
              "total_vaccinations                             1.000000  ...                        0.684864\n",
              "people_vaccinated                              0.998883  ...                        0.708877\n",
              "people_fully_vaccinated                        0.983239  ...                        0.577798\n",
              "daily_vaccinations_raw                         0.590951  ...                        0.795002\n",
              "daily_vaccinations                             0.684832  ...                        1.000000\n",
              "total_vaccinations_per_hundred                 1.000000  ...                        0.684852\n",
              "people_vaccinated_per_hundred                  0.998879  ...                        0.708906\n",
              "people_fully_vaccinated_per_hundred            0.983296  ...                        0.578061\n",
              "daily_vaccinations_per_million                 0.684864  ...                        1.000000\n",
              "\n",
              "[9 rows x 9 columns]"
            ]
          },
          "metadata": {
            "tags": []
          },
          "execution_count": 16
        }
      ]
    },
    {
      "cell_type": "code",
      "metadata": {
        "colab": {
          "base_uri": "https://localhost:8080/",
          "height": 465
        },
        "id": "XZi5Z1ebuWLj",
        "outputId": "e9c68b6b-2321-46dc-dedb-81dec9c77e29"
      },
      "source": [
        "sb.heatmap(data.corr())"
      ],
      "execution_count": 17,
      "outputs": [
        {
          "output_type": "execute_result",
          "data": {
            "text/plain": [
              "<matplotlib.axes._subplots.AxesSubplot at 0x7f8924916910>"
            ]
          },
          "metadata": {
            "tags": []
          },
          "execution_count": 17
        },
        {
          "output_type": "display_data",
          "data": {
            "image/png": "[encoded data removed]",
            "text/plain": [
              "<Figure size 432x288 with 2 Axes>"
            ]
          },
          "metadata": {
            "tags": [],
            "needs_background": "light"
          }
        }
      ]
    },
    {
      "cell_type": "code",
      "metadata": {
        "colab": {
          "base_uri": "https://localhost:8080/",
          "height": 386
        },
        "id": "kAdbENKYuWOg",
        "outputId": "ccedbd8d-cd7e-4349-d535-2d9a3a217786"
      },
      "source": [
        "sb.displot(x=\"total_vaccinations\",data=first,kde=True)"
      ],
      "execution_count": 11,
      "outputs": [
        {
          "output_type": "execute_result",
          "data": {
            "text/plain": [
              "<seaborn.axisgrid.FacetGrid at 0x7f8933bbdc50>"
            ]
          },
          "metadata": {
            "tags": []
          },
          "execution_count": 11
        },
        {
          "output_type": "display_data",
          "data": {
            "image/png": "[encoded data removed]",
            "text/plain": [
              "<Figure size 360x360 with 1 Axes>"
            ]
          },
          "metadata": {
            "tags": [],
            "needs_background": "light"
          }
        }
      ]
    },
    {
      "cell_type": "code",
      "metadata": {
        "colab": {
          "base_uri": "https://localhost:8080/",
          "height": 362
        },
        "id": "bUhFXJOo1pI9",
        "outputId": "c529d771-99d6-4540-f9cd-179517865be9"
      },
      "source": [
        "sb.distplot(data['people_fully_vaccinated'])\n"
      ],
      "execution_count": 18,
      "outputs": [
        {
          "output_type": "stream",
          "text": [
            "/usr/local/lib/python3.7/dist-packages/seaborn/distributions.py:2557: FutureWarning: `distplot` is a deprecated function and will be removed in a future version. Please adapt your code to use either `displot` (a figure-level function with similar flexibility) or `histplot` (an axes-level function for histograms).\n",
            "  warnings.warn(msg, FutureWarning)\n"
          ],
          "name": "stderr"
        },
        {
          "output_type": "execute_result",
          "data": {
            "text/plain": [
              "<matplotlib.axes._subplots.AxesSubplot at 0x7f8924808650>"
            ]
          },
          "metadata": {
            "tags": []
          },
          "execution_count": 18
        },
        {
          "output_type": "display_data",
          "data": {
            "image/png": "[encoded data removed]",
            "text/plain": [
              "<Figure size 432x288 with 1 Axes>"
            ]
          },
          "metadata": {
            "tags": [],
            "needs_background": "light"
          }
        }
      ]
    },
    {
      "cell_type": "code",
      "metadata": {
        "id": "W9eI8zrOupsI"
      },
      "source": [
        "X=data[['total_vaccinations','people_vaccinated','total_vaccinations_per_hundred','people_vaccinated_per_hundred']]\n",
        "Y=data[['people_fully_vaccinated']]\n",
        "from sklearn.model_selection import train_test_split\n",
        "X_train,X_test,Y_train,Y_test=train_test_split(X,Y,test_size=0.2,random_state=25000)\n",
        "\n"
      ],
      "execution_count": 19,
      "outputs": []
    },
    {
      "cell_type": "code",
      "metadata": {
        "colab": {
          "base_uri": "https://localhost:8080/"
        },
        "id": "GJAxVeGHutBV",
        "outputId": "1386fa64-f3d5-4f67-d5e1-8c85232589b7"
      },
      "source": [
        "from sklearn.linear_model import LinearRegression\n",
        "linreg=LinearRegression()\n",
        "linreg.fit(X_train,Y_train)\n",
        "\n"
      ],
      "execution_count": 27,
      "outputs": [
        {
          "output_type": "execute_result",
          "data": {
            "text/plain": [
              "LinearRegression(copy_X=True, fit_intercept=True, n_jobs=None, normalize=False)"
            ]
          },
          "metadata": {
            "tags": []
          },
          "execution_count": 27
        }
      ]
    },
    {
      "cell_type": "code",
      "metadata": {
        "colab": {
          "base_uri": "https://localhost:8080/"
        },
        "id": "wi0AqDhD2BMi",
        "outputId": "f949e4db-10cb-4dac-9783-ed1e5f10e111"
      },
      "source": [
        "linreg_pred=lr.predict(X_test)\n",
        "print(linreg_pred)\n",
        "\n",
        "linreg_accuracy=lr.score(X_test,Y_test)\n",
        "print(\"accuracy=\",lr_accuracy)"
      ],
      "execution_count": 30,
      "outputs": [
        {
          "output_type": "stream",
          "text": [
            "[[-4.84287739e-08]\n",
            " [ 1.48742540e+07]\n",
            " [ 4.59559070e+07]\n",
            " [ 2.45152130e+07]\n",
            " [-4.47034836e-08]\n",
            " [ 6.54246800e+06]\n",
            " [ 3.28951730e+07]\n",
            " [-3.35276127e-08]\n",
            " [-2.66591087e-08]\n",
            " [ 2.16339000e+05]\n",
            " [-3.91155481e-08]\n",
            " [ 3.97849510e+07]\n",
            " [-3.91155481e-08]\n",
            " [ 4.24195600e+07]\n",
            " [ 9.06531800e+06]\n",
            " [-3.07336450e-08]\n",
            " [ 9.60642000e+05]\n",
            " [ 7.47865400e+06]\n",
            " [ 4.12622330e+07]\n",
            " [ 7.86344100e+06]\n",
            " [ 7.66800000e+03]\n",
            " [ 5.14295300e+06]\n",
            " [ 8.87020100e+06]\n",
            " [ 4.38113420e+07]\n",
            " [ 2.59779900e+06]\n",
            " [ 2.91228330e+07]\n",
            " [ 8.82834600e+06]\n",
            " [-4.56348062e-08]\n",
            " [-3.05284902e-08]\n",
            " [ 1.38776640e+07]]\n",
            "accuracy= 1.0\n"
          ],
          "name": "stdout"
        }
      ]
    },
    {
      "cell_type": "code",
      "metadata": {
        "colab": {
          "base_uri": "https://localhost:8080/"
        },
        "id": "eR0PJhBC2BPf",
        "outputId": "041d4577-4869-4a18-ac88-995bea969c30"
      },
      "source": [
        "lr_accuracy"
      ],
      "execution_count": 24,
      "outputs": [
        {
          "output_type": "execute_result",
          "data": {
            "text/plain": [
              "1.0"
            ]
          },
          "metadata": {
            "tags": []
          },
          "execution_count": 24
        }
      ]
    },
    {
      "cell_type": "code",
      "metadata": {
        "id": "5VvO7X9PupvK"
      },
      "source": [
        ""
      ],
      "execution_count": null,
      "outputs": []
    }
  ]
}